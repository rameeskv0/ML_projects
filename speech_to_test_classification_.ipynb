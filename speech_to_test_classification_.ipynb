{
 "cells": [
  {
   "cell_type": "code",
   "execution_count": 10,
   "id": "73f58698",
   "metadata": {},
   "outputs": [],
   "source": [
    "import os\n",
    "import numpy as np"
   ]
  },
  {
   "cell_type": "code",
   "execution_count": 2,
   "id": "c7f14f3d",
   "metadata": {},
   "outputs": [],
   "source": [
    "import librosa as librosa"
   ]
  },
  {
   "cell_type": "code",
   "execution_count": 3,
   "id": "09930904",
   "metadata": {},
   "outputs": [],
   "source": [
    "train_path = (\"C:/Users/0rame/Desktop/ML_tutorials/AI_use_cases/Datas/Audio-20240307T103404Z-001/Audio/waves\")"
   ]
  },
  {
   "cell_type": "code",
   "execution_count": 4,
   "id": "0afb7301",
   "metadata": {},
   "outputs": [
    {
     "data": {
      "text/plain": [
       "'C:/Users/0rame/Desktop/ML_tutorials/AI_use_cases/Datas/Audio-20240307T103404Z-001/Audio/waves'"
      ]
     },
     "execution_count": 4,
     "metadata": {},
     "output_type": "execute_result"
    }
   ],
   "source": [
    "train_path"
   ]
  },
  {
   "cell_type": "code",
   "execution_count": 5,
   "id": "614a394e",
   "metadata": {},
   "outputs": [],
   "source": [
    "labels = os.listdir(train_path)"
   ]
  },
  {
   "cell_type": "code",
   "execution_count": 6,
   "id": "e474cd72",
   "metadata": {},
   "outputs": [
    {
     "data": {
      "text/plain": [
       "['jump', 'run', 'stop']"
      ]
     },
     "execution_count": 6,
     "metadata": {},
     "output_type": "execute_result"
    }
   ],
   "source": [
    "labels"
   ]
  },
  {
   "cell_type": "code",
   "execution_count": 7,
   "id": "2ec5709b",
   "metadata": {},
   "outputs": [
    {
     "name": "stdout",
     "output_type": "stream",
     "text": [
      "C:/Users/0rame/Desktop/ML_tutorials/AI_use_cases/Datas/Audio-20240307T103404Z-001/Audio/waves\\jump\n",
      "C:/Users/0rame/Desktop/ML_tutorials/AI_use_cases/Datas/Audio-20240307T103404Z-001/Audio/waves\\run\n",
      "C:/Users/0rame/Desktop/ML_tutorials/AI_use_cases/Datas/Audio-20240307T103404Z-001/Audio/waves\\stop\n"
     ]
    }
   ],
   "source": [
    "for label in labels:\n",
    "    l = train_path+'\\\\'+label\n",
    "    print(l)"
   ]
  },
  {
   "cell_type": "code",
   "execution_count": 8,
   "id": "ed02d652",
   "metadata": {},
   "outputs": [
    {
     "data": {
      "text/plain": [
       "'C:/Users/0rame/Desktop/ML_tutorials/AI_use_cases/Datas/Audio-20240307T103404Z-001/Audio/waves\\\\stop'"
      ]
     },
     "execution_count": 8,
     "metadata": {},
     "output_type": "execute_result"
    }
   ],
   "source": [
    "l"
   ]
  },
  {
   "cell_type": "code",
   "execution_count": 11,
   "id": "23622043",
   "metadata": {},
   "outputs": [
    {
     "name": "stdout",
     "output_type": "stream",
     "text": [
      "['1.wav', '2.wav', '3.wav', '4.wav', 'rec.wav', 'rec1.wav', 'rec2.wav', 'rec3.wav', 'rec4.wav', 'rec5.wav', 'rec6.wav', 'rec7.wav', 'rec8.wav']\n",
      "['1.wav', '2.wav', 'rec.wav', 'rec1.wav', 'rec2.wav', 'rec3.wav', 'rec4.wav', 'rec5.wav', 'run1.wav', 'run2.wav']\n",
      "['1.wav', '2.wav', 'rec.wav', 'rec1.wav', 'rec2.wav', 'rec3.wav', 'rec4.wav', 'rec5.wav', 'stop.wav', 'stop1.wav']\n"
     ]
    }
   ],
   "source": [
    "for label in labels:\n",
    "    waves = [f for f in os.listdir(train_path+'\\\\'+label)]\n",
    "    print(waves)\n",
    "    for wave in waves:\n",
    "        sample,sample_rate = librosa.load(train_path+'/'+label+'/'+wave,sr=16000)\n",
    "        samples = librosa.resample(sample,orig_sr=16000,target_sr=8000)\n",
    "        mfccs = np.mean(librosa.feature.mfcc(y=samples,sr=sample_rate,n_mfcc=40).T,axis=0)"
   ]
  },
  {
   "cell_type": "code",
   "execution_count": null,
   "id": "0450ede6",
   "metadata": {},
   "outputs": [],
   "source": []
  },
  {
   "cell_type": "code",
   "execution_count": null,
   "id": "e112d7c9",
   "metadata": {},
   "outputs": [],
   "source": []
  }
 ],
 "metadata": {
  "kernelspec": {
   "display_name": "Python 3 (ipykernel)",
   "language": "python",
   "name": "python3"
  },
  "language_info": {
   "codemirror_mode": {
    "name": "ipython",
    "version": 3
   },
   "file_extension": ".py",
   "mimetype": "text/x-python",
   "name": "python",
   "nbconvert_exporter": "python",
   "pygments_lexer": "ipython3",
   "version": "3.11.5"
  }
 },
 "nbformat": 4,
 "nbformat_minor": 5
}
