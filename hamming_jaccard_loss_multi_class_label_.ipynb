{
 "cells": [
  {
   "cell_type": "code",
   "execution_count": 1,
   "id": "55b3bd41",
   "metadata": {},
   "outputs": [],
   "source": [
    "import numpy as np\n",
    "from sklearn.metrics import hamming_loss,jaccard_score"
   ]
  },
  {
   "cell_type": "code",
   "execution_count": 2,
   "id": "6313ce6a",
   "metadata": {},
   "outputs": [],
   "source": [
    "a = np.array([[0.0,1.0],[1.0,1.0]])"
   ]
  },
  {
   "cell_type": "code",
   "execution_count": 3,
   "id": "4561a138",
   "metadata": {},
   "outputs": [],
   "source": [
    "y1 = np.array([[0.0,1.0],[1.0,1.0]])"
   ]
  },
  {
   "cell_type": "code",
   "execution_count": 4,
   "id": "c6088d39",
   "metadata": {},
   "outputs": [
    {
     "name": "stdout",
     "output_type": "stream",
     "text": [
      "0.0\n"
     ]
    }
   ],
   "source": [
    "print(hamming_loss(a,y1))"
   ]
  },
  {
   "cell_type": "code",
   "execution_count": 5,
   "id": "28aa9704",
   "metadata": {},
   "outputs": [
    {
     "name": "stdout",
     "output_type": "stream",
     "text": [
      "1.0\n"
     ]
    }
   ],
   "source": [
    "print(jaccard_score(a,y1,average='samples'))"
   ]
  },
  {
   "cell_type": "code",
   "execution_count": 12,
   "id": "ea02088c",
   "metadata": {},
   "outputs": [],
   "source": [
    "y2 = np.array([[0.0,1.0],[0.0,0.0]])\n",
    "y3 = np.array([[0.0,1.0],[1.0,0.0]])"
   ]
  },
  {
   "cell_type": "code",
   "execution_count": 13,
   "id": "49e6a0bc",
   "metadata": {},
   "outputs": [
    {
     "name": "stdout",
     "output_type": "stream",
     "text": [
      "0.5\n",
      "0.25\n"
     ]
    }
   ],
   "source": [
    "print(hamming_loss(a,y2))\n",
    "print(hamming_loss(a,y3))"
   ]
  },
  {
   "cell_type": "code",
   "execution_count": 14,
   "id": "b475b0ab",
   "metadata": {},
   "outputs": [
    {
     "name": "stdout",
     "output_type": "stream",
     "text": [
      "0.5\n",
      "0.75\n"
     ]
    }
   ],
   "source": [
    "print(jaccard_score(a,y2,average='samples'))\n",
    "print(jaccard_score(a,y3,average='samples'))"
   ]
  },
  {
   "cell_type": "code",
   "execution_count": null,
   "id": "2d1ba077",
   "metadata": {},
   "outputs": [],
   "source": []
  }
 ],
 "metadata": {
  "kernelspec": {
   "display_name": "Python 3 (ipykernel)",
   "language": "python",
   "name": "python3"
  },
  "language_info": {
   "codemirror_mode": {
    "name": "ipython",
    "version": 3
   },
   "file_extension": ".py",
   "mimetype": "text/x-python",
   "name": "python",
   "nbconvert_exporter": "python",
   "pygments_lexer": "ipython3",
   "version": "3.11.5"
  }
 },
 "nbformat": 4,
 "nbformat_minor": 5
}
