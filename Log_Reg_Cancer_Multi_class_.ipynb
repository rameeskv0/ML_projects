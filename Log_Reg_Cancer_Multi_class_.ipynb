{
 "cells": [
  {
   "cell_type": "code",
   "execution_count": 1,
   "id": "482d8bd2",
   "metadata": {},
   "outputs": [],
   "source": [
    "import pandas as pd"
   ]
  },
  {
   "cell_type": "code",
   "execution_count": 2,
   "id": "6956109c",
   "metadata": {},
   "outputs": [],
   "source": [
    "df = pd.read_csv(\"C:/Users/0rame/Desktop/ML_tutorials/Datas/breast-cancer-wisconsin (2).data\",header=None)"
   ]
  },
  {
   "cell_type": "code",
   "execution_count": 3,
   "id": "ebaffe73",
   "metadata": {},
   "outputs": [
    {
     "data": {
      "text/plain": [
       "0     0\n",
       "1     0\n",
       "2     0\n",
       "3     0\n",
       "4     0\n",
       "5     0\n",
       "6     0\n",
       "7     0\n",
       "8     0\n",
       "9     0\n",
       "10    0\n",
       "dtype: int64"
      ]
     },
     "execution_count": 3,
     "metadata": {},
     "output_type": "execute_result"
    }
   ],
   "source": [
    "df.isnull().sum()"
   ]
  },
  {
   "cell_type": "code",
   "execution_count": 4,
   "id": "faaef6b0",
   "metadata": {},
   "outputs": [
    {
     "name": "stdout",
     "output_type": "stream",
     "text": [
      "<class 'pandas.core.frame.DataFrame'>\n",
      "RangeIndex: 699 entries, 0 to 698\n",
      "Data columns (total 11 columns):\n",
      " #   Column  Non-Null Count  Dtype \n",
      "---  ------  --------------  ----- \n",
      " 0   0       699 non-null    int64 \n",
      " 1   1       699 non-null    int64 \n",
      " 2   2       699 non-null    int64 \n",
      " 3   3       699 non-null    int64 \n",
      " 4   4       699 non-null    int64 \n",
      " 5   5       699 non-null    int64 \n",
      " 6   6       699 non-null    object\n",
      " 7   7       699 non-null    int64 \n",
      " 8   8       699 non-null    int64 \n",
      " 9   9       699 non-null    int64 \n",
      " 10  10      699 non-null    int64 \n",
      "dtypes: int64(10), object(1)\n",
      "memory usage: 60.2+ KB\n"
     ]
    }
   ],
   "source": [
    "df.info()"
   ]
  },
  {
   "cell_type": "code",
   "execution_count": 5,
   "id": "24e32ae9",
   "metadata": {},
   "outputs": [
    {
     "data": {
      "text/plain": [
       "array(['1', '10', '2', '4', '3', '9', '7', '?', '5', '8', '6'],\n",
       "      dtype=object)"
      ]
     },
     "execution_count": 5,
     "metadata": {},
     "output_type": "execute_result"
    }
   ],
   "source": [
    "df[6].unique()"
   ]
  },
  {
   "cell_type": "code",
   "execution_count": 7,
   "id": "3d2842b2",
   "metadata": {},
   "outputs": [
    {
     "data": {
      "text/plain": [
       "6\n",
       "1     402\n",
       "10    132\n",
       "2      30\n",
       "5      30\n",
       "3      28\n",
       "8      21\n",
       "4      19\n",
       "?      16\n",
       "9       9\n",
       "7       8\n",
       "6       4\n",
       "Name: count, dtype: int64"
      ]
     },
     "execution_count": 7,
     "metadata": {},
     "output_type": "execute_result"
    }
   ],
   "source": [
    "df[6].value_counts()"
   ]
  },
  {
   "cell_type": "code",
   "execution_count": 8,
   "id": "0ff00a46",
   "metadata": {},
   "outputs": [],
   "source": [
    "import numpy as np"
   ]
  },
  {
   "cell_type": "code",
   "execution_count": 10,
   "id": "a1689cf8",
   "metadata": {},
   "outputs": [],
   "source": [
    "df[6].replace('?',np.nan,inplace=True)"
   ]
  },
  {
   "cell_type": "code",
   "execution_count": 11,
   "id": "b3b41905",
   "metadata": {},
   "outputs": [],
   "source": [
    "x = df.drop([6,10],axis=1)"
   ]
  },
  {
   "cell_type": "code",
   "execution_count": 12,
   "id": "080d6107",
   "metadata": {},
   "outputs": [],
   "source": [
    "y_raw = df[10].values"
   ]
  },
  {
   "cell_type": "code",
   "execution_count": 13,
   "id": "74c7f7fe",
   "metadata": {},
   "outputs": [],
   "source": [
    "from sklearn.preprocessing import LabelEncoder"
   ]
  },
  {
   "cell_type": "code",
   "execution_count": 14,
   "id": "982e4fe2",
   "metadata": {},
   "outputs": [],
   "source": [
    "label_encoder = LabelEncoder()"
   ]
  },
  {
   "cell_type": "code",
   "execution_count": 15,
   "id": "710a6058",
   "metadata": {},
   "outputs": [],
   "source": [
    "y = label_encoder.fit_transform(y_raw)"
   ]
  },
  {
   "cell_type": "code",
   "execution_count": 22,
   "id": "f556f9c3",
   "metadata": {},
   "outputs": [],
   "source": [
    "from sklearn.model_selection import train_test_split,GridSearchCV"
   ]
  },
  {
   "cell_type": "code",
   "execution_count": 17,
   "id": "d291c0f0",
   "metadata": {},
   "outputs": [],
   "source": [
    "xtrain,xtest,ytrain,ytest = train_test_split(x,y,test_size=0.3,random_state=50)"
   ]
  },
  {
   "cell_type": "code",
   "execution_count": 18,
   "id": "bfc20433",
   "metadata": {},
   "outputs": [],
   "source": [
    "from sklearn.linear_model import LogisticRegression"
   ]
  },
  {
   "cell_type": "code",
   "execution_count": 19,
   "id": "9054c423",
   "metadata": {},
   "outputs": [],
   "source": [
    "penalty = ['l1','l2']\n",
    "c_val = 2.**np.arange(-5,10,step=2)"
   ]
  },
  {
   "cell_type": "code",
   "execution_count": 20,
   "id": "192af8df",
   "metadata": {},
   "outputs": [],
   "source": [
    "grid_search = [{'C':c_val,'penalty':penalty}]"
   ]
  },
  {
   "cell_type": "code",
   "execution_count": 21,
   "id": "e41ce393",
   "metadata": {},
   "outputs": [],
   "source": [
    "model = LogisticRegression(solver='liblinear')"
   ]
  },
  {
   "cell_type": "code",
   "execution_count": 23,
   "id": "e940e03a",
   "metadata": {},
   "outputs": [],
   "source": [
    "cv_log = GridSearchCV(estimator=model,param_grid=grid_search)"
   ]
  },
  {
   "cell_type": "code",
   "execution_count": 24,
   "id": "a6015953",
   "metadata": {},
   "outputs": [
    {
     "data": {
      "text/html": [
       "<style>#sk-container-id-1 {color: black;}#sk-container-id-1 pre{padding: 0;}#sk-container-id-1 div.sk-toggleable {background-color: white;}#sk-container-id-1 label.sk-toggleable__label {cursor: pointer;display: block;width: 100%;margin-bottom: 0;padding: 0.3em;box-sizing: border-box;text-align: center;}#sk-container-id-1 label.sk-toggleable__label-arrow:before {content: \"▸\";float: left;margin-right: 0.25em;color: #696969;}#sk-container-id-1 label.sk-toggleable__label-arrow:hover:before {color: black;}#sk-container-id-1 div.sk-estimator:hover label.sk-toggleable__label-arrow:before {color: black;}#sk-container-id-1 div.sk-toggleable__content {max-height: 0;max-width: 0;overflow: hidden;text-align: left;background-color: #f0f8ff;}#sk-container-id-1 div.sk-toggleable__content pre {margin: 0.2em;color: black;border-radius: 0.25em;background-color: #f0f8ff;}#sk-container-id-1 input.sk-toggleable__control:checked~div.sk-toggleable__content {max-height: 200px;max-width: 100%;overflow: auto;}#sk-container-id-1 input.sk-toggleable__control:checked~label.sk-toggleable__label-arrow:before {content: \"▾\";}#sk-container-id-1 div.sk-estimator input.sk-toggleable__control:checked~label.sk-toggleable__label {background-color: #d4ebff;}#sk-container-id-1 div.sk-label input.sk-toggleable__control:checked~label.sk-toggleable__label {background-color: #d4ebff;}#sk-container-id-1 input.sk-hidden--visually {border: 0;clip: rect(1px 1px 1px 1px);clip: rect(1px, 1px, 1px, 1px);height: 1px;margin: -1px;overflow: hidden;padding: 0;position: absolute;width: 1px;}#sk-container-id-1 div.sk-estimator {font-family: monospace;background-color: #f0f8ff;border: 1px dotted black;border-radius: 0.25em;box-sizing: border-box;margin-bottom: 0.5em;}#sk-container-id-1 div.sk-estimator:hover {background-color: #d4ebff;}#sk-container-id-1 div.sk-parallel-item::after {content: \"\";width: 100%;border-bottom: 1px solid gray;flex-grow: 1;}#sk-container-id-1 div.sk-label:hover label.sk-toggleable__label {background-color: #d4ebff;}#sk-container-id-1 div.sk-serial::before {content: \"\";position: absolute;border-left: 1px solid gray;box-sizing: border-box;top: 0;bottom: 0;left: 50%;z-index: 0;}#sk-container-id-1 div.sk-serial {display: flex;flex-direction: column;align-items: center;background-color: white;padding-right: 0.2em;padding-left: 0.2em;position: relative;}#sk-container-id-1 div.sk-item {position: relative;z-index: 1;}#sk-container-id-1 div.sk-parallel {display: flex;align-items: stretch;justify-content: center;background-color: white;position: relative;}#sk-container-id-1 div.sk-item::before, #sk-container-id-1 div.sk-parallel-item::before {content: \"\";position: absolute;border-left: 1px solid gray;box-sizing: border-box;top: 0;bottom: 0;left: 50%;z-index: -1;}#sk-container-id-1 div.sk-parallel-item {display: flex;flex-direction: column;z-index: 1;position: relative;background-color: white;}#sk-container-id-1 div.sk-parallel-item:first-child::after {align-self: flex-end;width: 50%;}#sk-container-id-1 div.sk-parallel-item:last-child::after {align-self: flex-start;width: 50%;}#sk-container-id-1 div.sk-parallel-item:only-child::after {width: 0;}#sk-container-id-1 div.sk-dashed-wrapped {border: 1px dashed gray;margin: 0 0.4em 0.5em 0.4em;box-sizing: border-box;padding-bottom: 0.4em;background-color: white;}#sk-container-id-1 div.sk-label label {font-family: monospace;font-weight: bold;display: inline-block;line-height: 1.2em;}#sk-container-id-1 div.sk-label-container {text-align: center;}#sk-container-id-1 div.sk-container {/* jupyter's `normalize.less` sets `[hidden] { display: none; }` but bootstrap.min.css set `[hidden] { display: none !important; }` so we also need the `!important` here to be able to override the default hidden behavior on the sphinx rendered scikit-learn.org. See: https://github.com/scikit-learn/scikit-learn/issues/21755 */display: inline-block !important;position: relative;}#sk-container-id-1 div.sk-text-repr-fallback {display: none;}</style><div id=\"sk-container-id-1\" class=\"sk-top-container\"><div class=\"sk-text-repr-fallback\"><pre>GridSearchCV(estimator=LogisticRegression(solver=&#x27;liblinear&#x27;),\n",
       "             param_grid=[{&#x27;C&#x27;: array([3.125e-02, 1.250e-01, 5.000e-01, 2.000e+00, 8.000e+00, 3.200e+01,\n",
       "       1.280e+02, 5.120e+02]),\n",
       "                          &#x27;penalty&#x27;: [&#x27;l1&#x27;, &#x27;l2&#x27;]}])</pre><b>In a Jupyter environment, please rerun this cell to show the HTML representation or trust the notebook. <br />On GitHub, the HTML representation is unable to render, please try loading this page with nbviewer.org.</b></div><div class=\"sk-container\" hidden><div class=\"sk-item sk-dashed-wrapped\"><div class=\"sk-label-container\"><div class=\"sk-label sk-toggleable\"><input class=\"sk-toggleable__control sk-hidden--visually\" id=\"sk-estimator-id-1\" type=\"checkbox\" ><label for=\"sk-estimator-id-1\" class=\"sk-toggleable__label sk-toggleable__label-arrow\">GridSearchCV</label><div class=\"sk-toggleable__content\"><pre>GridSearchCV(estimator=LogisticRegression(solver=&#x27;liblinear&#x27;),\n",
       "             param_grid=[{&#x27;C&#x27;: array([3.125e-02, 1.250e-01, 5.000e-01, 2.000e+00, 8.000e+00, 3.200e+01,\n",
       "       1.280e+02, 5.120e+02]),\n",
       "                          &#x27;penalty&#x27;: [&#x27;l1&#x27;, &#x27;l2&#x27;]}])</pre></div></div></div><div class=\"sk-parallel\"><div class=\"sk-parallel-item\"><div class=\"sk-item\"><div class=\"sk-label-container\"><div class=\"sk-label sk-toggleable\"><input class=\"sk-toggleable__control sk-hidden--visually\" id=\"sk-estimator-id-2\" type=\"checkbox\" ><label for=\"sk-estimator-id-2\" class=\"sk-toggleable__label sk-toggleable__label-arrow\">estimator: LogisticRegression</label><div class=\"sk-toggleable__content\"><pre>LogisticRegression(solver=&#x27;liblinear&#x27;)</pre></div></div></div><div class=\"sk-serial\"><div class=\"sk-item\"><div class=\"sk-estimator sk-toggleable\"><input class=\"sk-toggleable__control sk-hidden--visually\" id=\"sk-estimator-id-3\" type=\"checkbox\" ><label for=\"sk-estimator-id-3\" class=\"sk-toggleable__label sk-toggleable__label-arrow\">LogisticRegression</label><div class=\"sk-toggleable__content\"><pre>LogisticRegression(solver=&#x27;liblinear&#x27;)</pre></div></div></div></div></div></div></div></div></div></div>"
      ],
      "text/plain": [
       "GridSearchCV(estimator=LogisticRegression(solver='liblinear'),\n",
       "             param_grid=[{'C': array([3.125e-02, 1.250e-01, 5.000e-01, 2.000e+00, 8.000e+00, 3.200e+01,\n",
       "       1.280e+02, 5.120e+02]),\n",
       "                          'penalty': ['l1', 'l2']}])"
      ]
     },
     "execution_count": 24,
     "metadata": {},
     "output_type": "execute_result"
    }
   ],
   "source": [
    "cv_log.fit(xtrain,ytrain)"
   ]
  },
  {
   "cell_type": "code",
   "execution_count": 25,
   "id": "1c4e7fd3",
   "metadata": {},
   "outputs": [],
   "source": [
    "best_c = cv_log.best_params_['C']\n",
    "best_penalty = cv_log.best_params_['penalty']"
   ]
  },
  {
   "cell_type": "code",
   "execution_count": 26,
   "id": "5802f091",
   "metadata": {},
   "outputs": [
    {
     "data": {
      "text/plain": [
       "8.0"
      ]
     },
     "execution_count": 26,
     "metadata": {},
     "output_type": "execute_result"
    }
   ],
   "source": [
    "best_c"
   ]
  },
  {
   "cell_type": "code",
   "execution_count": 27,
   "id": "661947b1",
   "metadata": {},
   "outputs": [
    {
     "data": {
      "text/plain": [
       "'l1'"
      ]
     },
     "execution_count": 27,
     "metadata": {},
     "output_type": "execute_result"
    }
   ],
   "source": [
    "best_penalty"
   ]
  },
  {
   "cell_type": "code",
   "execution_count": 31,
   "id": "43478583",
   "metadata": {},
   "outputs": [],
   "source": [
    "model = LogisticRegression(solver='liblinear',C=best_c,penalty=best_penalty)"
   ]
  },
  {
   "cell_type": "code",
   "execution_count": 32,
   "id": "ff36f112",
   "metadata": {},
   "outputs": [
    {
     "data": {
      "text/html": [
       "<style>#sk-container-id-2 {color: black;}#sk-container-id-2 pre{padding: 0;}#sk-container-id-2 div.sk-toggleable {background-color: white;}#sk-container-id-2 label.sk-toggleable__label {cursor: pointer;display: block;width: 100%;margin-bottom: 0;padding: 0.3em;box-sizing: border-box;text-align: center;}#sk-container-id-2 label.sk-toggleable__label-arrow:before {content: \"▸\";float: left;margin-right: 0.25em;color: #696969;}#sk-container-id-2 label.sk-toggleable__label-arrow:hover:before {color: black;}#sk-container-id-2 div.sk-estimator:hover label.sk-toggleable__label-arrow:before {color: black;}#sk-container-id-2 div.sk-toggleable__content {max-height: 0;max-width: 0;overflow: hidden;text-align: left;background-color: #f0f8ff;}#sk-container-id-2 div.sk-toggleable__content pre {margin: 0.2em;color: black;border-radius: 0.25em;background-color: #f0f8ff;}#sk-container-id-2 input.sk-toggleable__control:checked~div.sk-toggleable__content {max-height: 200px;max-width: 100%;overflow: auto;}#sk-container-id-2 input.sk-toggleable__control:checked~label.sk-toggleable__label-arrow:before {content: \"▾\";}#sk-container-id-2 div.sk-estimator input.sk-toggleable__control:checked~label.sk-toggleable__label {background-color: #d4ebff;}#sk-container-id-2 div.sk-label input.sk-toggleable__control:checked~label.sk-toggleable__label {background-color: #d4ebff;}#sk-container-id-2 input.sk-hidden--visually {border: 0;clip: rect(1px 1px 1px 1px);clip: rect(1px, 1px, 1px, 1px);height: 1px;margin: -1px;overflow: hidden;padding: 0;position: absolute;width: 1px;}#sk-container-id-2 div.sk-estimator {font-family: monospace;background-color: #f0f8ff;border: 1px dotted black;border-radius: 0.25em;box-sizing: border-box;margin-bottom: 0.5em;}#sk-container-id-2 div.sk-estimator:hover {background-color: #d4ebff;}#sk-container-id-2 div.sk-parallel-item::after {content: \"\";width: 100%;border-bottom: 1px solid gray;flex-grow: 1;}#sk-container-id-2 div.sk-label:hover label.sk-toggleable__label {background-color: #d4ebff;}#sk-container-id-2 div.sk-serial::before {content: \"\";position: absolute;border-left: 1px solid gray;box-sizing: border-box;top: 0;bottom: 0;left: 50%;z-index: 0;}#sk-container-id-2 div.sk-serial {display: flex;flex-direction: column;align-items: center;background-color: white;padding-right: 0.2em;padding-left: 0.2em;position: relative;}#sk-container-id-2 div.sk-item {position: relative;z-index: 1;}#sk-container-id-2 div.sk-parallel {display: flex;align-items: stretch;justify-content: center;background-color: white;position: relative;}#sk-container-id-2 div.sk-item::before, #sk-container-id-2 div.sk-parallel-item::before {content: \"\";position: absolute;border-left: 1px solid gray;box-sizing: border-box;top: 0;bottom: 0;left: 50%;z-index: -1;}#sk-container-id-2 div.sk-parallel-item {display: flex;flex-direction: column;z-index: 1;position: relative;background-color: white;}#sk-container-id-2 div.sk-parallel-item:first-child::after {align-self: flex-end;width: 50%;}#sk-container-id-2 div.sk-parallel-item:last-child::after {align-self: flex-start;width: 50%;}#sk-container-id-2 div.sk-parallel-item:only-child::after {width: 0;}#sk-container-id-2 div.sk-dashed-wrapped {border: 1px dashed gray;margin: 0 0.4em 0.5em 0.4em;box-sizing: border-box;padding-bottom: 0.4em;background-color: white;}#sk-container-id-2 div.sk-label label {font-family: monospace;font-weight: bold;display: inline-block;line-height: 1.2em;}#sk-container-id-2 div.sk-label-container {text-align: center;}#sk-container-id-2 div.sk-container {/* jupyter's `normalize.less` sets `[hidden] { display: none; }` but bootstrap.min.css set `[hidden] { display: none !important; }` so we also need the `!important` here to be able to override the default hidden behavior on the sphinx rendered scikit-learn.org. See: https://github.com/scikit-learn/scikit-learn/issues/21755 */display: inline-block !important;position: relative;}#sk-container-id-2 div.sk-text-repr-fallback {display: none;}</style><div id=\"sk-container-id-2\" class=\"sk-top-container\"><div class=\"sk-text-repr-fallback\"><pre>LogisticRegression(C=8.0, penalty=&#x27;l1&#x27;, solver=&#x27;liblinear&#x27;)</pre><b>In a Jupyter environment, please rerun this cell to show the HTML representation or trust the notebook. <br />On GitHub, the HTML representation is unable to render, please try loading this page with nbviewer.org.</b></div><div class=\"sk-container\" hidden><div class=\"sk-item\"><div class=\"sk-estimator sk-toggleable\"><input class=\"sk-toggleable__control sk-hidden--visually\" id=\"sk-estimator-id-4\" type=\"checkbox\" checked><label for=\"sk-estimator-id-4\" class=\"sk-toggleable__label sk-toggleable__label-arrow\">LogisticRegression</label><div class=\"sk-toggleable__content\"><pre>LogisticRegression(C=8.0, penalty=&#x27;l1&#x27;, solver=&#x27;liblinear&#x27;)</pre></div></div></div></div></div>"
      ],
      "text/plain": [
       "LogisticRegression(C=8.0, penalty='l1', solver='liblinear')"
      ]
     },
     "execution_count": 32,
     "metadata": {},
     "output_type": "execute_result"
    }
   ],
   "source": [
    "model.fit(xtrain,ytrain)"
   ]
  },
  {
   "cell_type": "code",
   "execution_count": 34,
   "id": "5acd75d4",
   "metadata": {},
   "outputs": [],
   "source": [
    "prediction = model.predict(xtest)"
   ]
  },
  {
   "cell_type": "code",
   "execution_count": 35,
   "id": "7c7b26f1",
   "metadata": {},
   "outputs": [],
   "source": [
    "y_prob = model.predict_proba(xtest)"
   ]
  },
  {
   "cell_type": "code",
   "execution_count": 36,
   "id": "33ae2c90",
   "metadata": {},
   "outputs": [
    {
     "data": {
      "text/plain": [
       "array([0, 0, 0, 1, 0, 1, 0, 0, 0, 0, 1, 1, 1, 1, 0, 0, 0, 0, 1, 0, 1, 0,\n",
       "       0, 1, 0, 0, 0, 0, 0, 0, 0, 0, 0, 0, 0, 0, 0, 0, 0, 1, 1, 0, 0, 1,\n",
       "       0, 1, 0, 1, 0, 1, 0, 0, 0, 0, 0, 0, 0, 1, 1, 0, 0, 0, 0, 0, 0, 1,\n",
       "       0, 0, 1, 0, 0, 0, 0, 0, 0, 1, 1, 1, 0, 1, 0, 1, 1, 0, 1, 1, 0, 0,\n",
       "       1, 0, 1, 0, 1, 1, 0, 0, 0, 0, 1, 1, 0, 0, 0, 0, 0, 0, 0, 1, 0, 1,\n",
       "       0, 1, 0, 0, 0, 0, 0, 1, 0, 0, 1, 0, 1, 0, 1, 0, 0, 0, 0, 1, 1, 1,\n",
       "       0, 0, 1, 0, 0, 1, 0, 0, 1, 1, 1, 1, 1, 1, 1, 0, 0, 0, 1, 1, 0, 0,\n",
       "       0, 0, 0, 0, 0, 1, 0, 1, 0, 0, 1, 0, 0, 0, 1, 0, 1, 1, 0, 1, 0, 0,\n",
       "       0, 0, 0, 1, 0, 1, 1, 1, 0, 0, 1, 0, 0, 1, 0, 0, 1, 0, 0, 1, 0, 1,\n",
       "       0, 1, 1, 1, 0, 0, 0, 1, 1, 0, 0, 0], dtype=int64)"
      ]
     },
     "execution_count": 36,
     "metadata": {},
     "output_type": "execute_result"
    }
   ],
   "source": [
    "ytest"
   ]
  },
  {
   "cell_type": "code",
   "execution_count": 37,
   "id": "945b0b84",
   "metadata": {},
   "outputs": [
    {
     "data": {
      "text/plain": [
       "array([0, 0, 0, 1, 0, 1, 0, 0, 0, 0, 1, 1, 1, 1, 0, 0, 0, 0, 0, 0, 1, 0,\n",
       "       0, 1, 0, 0, 0, 0, 0, 0, 0, 0, 0, 0, 0, 0, 0, 0, 0, 1, 1, 0, 0, 1,\n",
       "       0, 1, 0, 1, 0, 1, 0, 0, 0, 0, 0, 0, 0, 1, 1, 0, 0, 0, 0, 0, 0, 1,\n",
       "       0, 0, 1, 0, 0, 0, 0, 0, 0, 1, 1, 1, 0, 1, 0, 0, 1, 0, 1, 1, 0, 0,\n",
       "       1, 0, 1, 0, 1, 1, 0, 0, 0, 0, 1, 1, 0, 0, 0, 0, 1, 0, 0, 1, 0, 1,\n",
       "       0, 1, 0, 0, 0, 0, 0, 1, 0, 1, 1, 0, 1, 0, 1, 0, 0, 0, 0, 1, 1, 1,\n",
       "       0, 0, 1, 0, 0, 1, 0, 0, 1, 1, 1, 1, 1, 1, 1, 0, 0, 0, 1, 1, 0, 0,\n",
       "       0, 0, 0, 0, 0, 1, 0, 1, 0, 1, 1, 0, 0, 1, 1, 0, 1, 1, 0, 1, 0, 0,\n",
       "       0, 0, 0, 1, 0, 1, 1, 1, 1, 0, 1, 0, 0, 1, 0, 0, 1, 0, 0, 1, 0, 0,\n",
       "       0, 1, 1, 1, 0, 0, 0, 1, 1, 0, 0, 0], dtype=int64)"
      ]
     },
     "execution_count": 37,
     "metadata": {},
     "output_type": "execute_result"
    }
   ],
   "source": [
    "prediction"
   ]
  },
  {
   "cell_type": "code",
   "execution_count": 38,
   "id": "bbe26dfc",
   "metadata": {},
   "outputs": [
    {
     "data": {
      "text/plain": [
       "array([[9.85115649e-01, 1.48843511e-02],\n",
       "       [9.97127969e-01, 2.87203082e-03],\n",
       "       [9.67276983e-01, 3.27230172e-02],\n",
       "       [3.86280653e-01, 6.13719347e-01],\n",
       "       [9.71671383e-01, 2.83286170e-02],\n",
       "       [3.74464256e-03, 9.96255357e-01],\n",
       "       [9.38514109e-01, 6.14858906e-02],\n",
       "       [9.84281642e-01, 1.57183575e-02],\n",
       "       [9.91383836e-01, 8.61616428e-03],\n",
       "       [9.92685076e-01, 7.31492418e-03],\n",
       "       [6.82747497e-06, 9.99993173e-01],\n",
       "       [9.22506829e-02, 9.07749317e-01],\n",
       "       [3.29205521e-03, 9.96707945e-01],\n",
       "       [1.10443416e-07, 9.99999890e-01],\n",
       "       [9.82594208e-01, 1.74057921e-02],\n",
       "       [9.97616532e-01, 2.38346813e-03],\n",
       "       [9.96494210e-01, 3.50578993e-03],\n",
       "       [9.52438007e-01, 4.75619927e-02],\n",
       "       [6.71801352e-01, 3.28198648e-01],\n",
       "       [9.78731609e-01, 2.12683906e-02],\n",
       "       [2.43834675e-01, 7.56165325e-01],\n",
       "       [9.95019805e-01, 4.98019488e-03],\n",
       "       [9.97834686e-01, 2.16531449e-03],\n",
       "       [1.54120454e-02, 9.84587955e-01],\n",
       "       [9.95668969e-01, 4.33103057e-03],\n",
       "       [9.78750761e-01, 2.12492393e-02],\n",
       "       [9.97600587e-01, 2.39941322e-03],\n",
       "       [9.95682287e-01, 4.31771272e-03],\n",
       "       [9.91722182e-01, 8.27781839e-03],\n",
       "       [9.95423045e-01, 4.57695533e-03],\n",
       "       [9.07094898e-01, 9.29051015e-02],\n",
       "       [9.85104744e-01, 1.48952561e-02],\n",
       "       [9.88433577e-01, 1.15664234e-02],\n",
       "       [9.98673360e-01, 1.32664005e-03],\n",
       "       [9.97970519e-01, 2.02948076e-03],\n",
       "       [9.42128164e-01, 5.78718363e-02],\n",
       "       [9.97316783e-01, 2.68321672e-03],\n",
       "       [9.83667851e-01, 1.63321495e-02],\n",
       "       [9.96086681e-01, 3.91331921e-03],\n",
       "       [1.48430328e-02, 9.85156967e-01],\n",
       "       [1.13531668e-01, 8.86468332e-01],\n",
       "       [9.39900421e-01, 6.00995788e-02],\n",
       "       [8.51027859e-01, 1.48972141e-01],\n",
       "       [2.20710994e-03, 9.97792890e-01],\n",
       "       [9.99982352e-01, 1.76484028e-05],\n",
       "       [4.49630402e-01, 5.50369598e-01],\n",
       "       [9.93662768e-01, 6.33723162e-03],\n",
       "       [4.04106945e-04, 9.99595893e-01],\n",
       "       [9.79755982e-01, 2.02440182e-02],\n",
       "       [2.78747392e-03, 9.97212526e-01],\n",
       "       [9.97477311e-01, 2.52268904e-03],\n",
       "       [9.85552925e-01, 1.44470752e-02],\n",
       "       [9.55367985e-01, 4.46320148e-02],\n",
       "       [9.39074668e-01, 6.09253324e-02],\n",
       "       [9.63590019e-01, 3.64099812e-02],\n",
       "       [9.68871372e-01, 3.11286277e-02],\n",
       "       [9.97178542e-01, 2.82145848e-03],\n",
       "       [1.39754861e-03, 9.98602451e-01],\n",
       "       [2.10790978e-03, 9.97892090e-01],\n",
       "       [9.88799829e-01, 1.12001705e-02],\n",
       "       [9.80951719e-01, 1.90482805e-02],\n",
       "       [9.98515032e-01, 1.48496776e-03],\n",
       "       [9.62120193e-01, 3.78798072e-02],\n",
       "       [9.74748284e-01, 2.52517161e-02],\n",
       "       [9.42204293e-01, 5.77957068e-02],\n",
       "       [2.52213165e-04, 9.99747787e-01],\n",
       "       [9.98974136e-01, 1.02586426e-03],\n",
       "       [9.57797776e-01, 4.22022243e-02],\n",
       "       [1.49459217e-04, 9.99850541e-01],\n",
       "       [9.96102746e-01, 3.89725419e-03],\n",
       "       [9.96397221e-01, 3.60277906e-03],\n",
       "       [5.88515436e-01, 4.11484564e-01],\n",
       "       [9.88129512e-01, 1.18704879e-02],\n",
       "       [9.95867177e-01, 4.13282272e-03],\n",
       "       [9.77547157e-01, 2.24528434e-02],\n",
       "       [4.29359862e-06, 9.99995706e-01],\n",
       "       [4.78829676e-07, 9.99999521e-01],\n",
       "       [9.65995600e-04, 9.99034004e-01],\n",
       "       [9.96069140e-01, 3.93086032e-03],\n",
       "       [1.22910610e-03, 9.98770894e-01],\n",
       "       [9.97579949e-01, 2.42005141e-03],\n",
       "       [9.81151850e-01, 1.88481499e-02],\n",
       "       [1.27773757e-01, 8.72226243e-01],\n",
       "       [9.61027877e-01, 3.89721231e-02],\n",
       "       [1.42470658e-03, 9.98575293e-01],\n",
       "       [2.04905048e-03, 9.97950950e-01],\n",
       "       [9.78990374e-01, 2.10096263e-02],\n",
       "       [9.95947059e-01, 4.05294145e-03],\n",
       "       [5.20501288e-02, 9.47949871e-01],\n",
       "       [9.95670219e-01, 4.32978090e-03],\n",
       "       [3.97026080e-03, 9.96029739e-01],\n",
       "       [9.70778812e-01, 2.92211878e-02],\n",
       "       [4.30291929e-04, 9.99569708e-01],\n",
       "       [1.02750664e-06, 9.99998972e-01],\n",
       "       [9.96008414e-01, 3.99158557e-03],\n",
       "       [9.86605073e-01, 1.33949274e-02],\n",
       "       [8.30671751e-01, 1.69328249e-01],\n",
       "       [9.93206952e-01, 6.79304850e-03],\n",
       "       [2.31585753e-05, 9.99976841e-01],\n",
       "       [2.95197014e-05, 9.99970480e-01],\n",
       "       [9.86411321e-01, 1.35886786e-02],\n",
       "       [9.78566525e-01, 2.14334745e-02],\n",
       "       [9.93104456e-01, 6.89554406e-03],\n",
       "       [9.96632673e-01, 3.36732708e-03],\n",
       "       [2.89961819e-01, 7.10038181e-01],\n",
       "       [9.67506478e-01, 3.24935223e-02],\n",
       "       [9.88396823e-01, 1.16031773e-02],\n",
       "       [2.40081657e-01, 7.59918343e-01],\n",
       "       [9.89913284e-01, 1.00867156e-02],\n",
       "       [2.56464300e-02, 9.74353570e-01],\n",
       "       [9.95904894e-01, 4.09510617e-03],\n",
       "       [3.24561948e-04, 9.99675438e-01],\n",
       "       [9.97943307e-01, 2.05669291e-03],\n",
       "       [9.97591900e-01, 2.40809984e-03],\n",
       "       [9.95971534e-01, 4.02846597e-03],\n",
       "       [9.94538942e-01, 5.46105780e-03],\n",
       "       [9.97536708e-01, 2.46329212e-03],\n",
       "       [6.33825403e-04, 9.99366175e-01],\n",
       "       [9.92292083e-01, 7.70791680e-03],\n",
       "       [2.76036080e-01, 7.23963920e-01],\n",
       "       [1.52663214e-03, 9.98473368e-01],\n",
       "       [9.52264655e-01, 4.77353450e-02],\n",
       "       [1.05185795e-05, 9.99989481e-01],\n",
       "       [9.70680633e-01, 2.93193671e-02],\n",
       "       [5.09105716e-02, 9.49089428e-01],\n",
       "       [9.97316783e-01, 2.68321672e-03],\n",
       "       [9.77225176e-01, 2.27748238e-02],\n",
       "       [9.78234225e-01, 2.17657745e-02],\n",
       "       [9.86657187e-01, 1.33428134e-02],\n",
       "       [2.27837013e-02, 9.77216299e-01],\n",
       "       [1.43741072e-03, 9.98562589e-01],\n",
       "       [4.80024713e-03, 9.95199753e-01],\n",
       "       [9.81781064e-01, 1.82189359e-02],\n",
       "       [9.93489023e-01, 6.51097715e-03],\n",
       "       [1.37363562e-03, 9.98626364e-01],\n",
       "       [9.88762422e-01, 1.12375782e-02],\n",
       "       [9.86598464e-01, 1.34015356e-02],\n",
       "       [1.41442930e-02, 9.85855707e-01],\n",
       "       [9.95996812e-01, 4.00318818e-03],\n",
       "       [9.96414134e-01, 3.58586596e-03],\n",
       "       [1.35508698e-03, 9.98644913e-01],\n",
       "       [1.86792052e-03, 9.98132079e-01],\n",
       "       [4.29350197e-01, 5.70649803e-01],\n",
       "       [1.84462732e-04, 9.99815537e-01],\n",
       "       [6.13146446e-03, 9.93868536e-01],\n",
       "       [1.38848819e-04, 9.99861151e-01],\n",
       "       [6.63147205e-05, 9.99933685e-01],\n",
       "       [9.92308682e-01, 7.69131845e-03],\n",
       "       [9.95001976e-01, 4.99802369e-03],\n",
       "       [9.98784582e-01, 1.21541799e-03],\n",
       "       [2.24533433e-05, 9.99977547e-01],\n",
       "       [1.22738360e-01, 8.77261640e-01],\n",
       "       [9.93340068e-01, 6.65993249e-03],\n",
       "       [9.93571765e-01, 6.42823467e-03],\n",
       "       [9.86673679e-01, 1.33263213e-02],\n",
       "       [9.86401023e-01, 1.35989770e-02],\n",
       "       [9.98799016e-01, 1.20098438e-03],\n",
       "       [9.72867356e-01, 2.71326444e-02],\n",
       "       [9.95945420e-01, 4.05458022e-03],\n",
       "       [1.07649216e-04, 9.99892351e-01],\n",
       "       [8.39239291e-01, 1.60760709e-01],\n",
       "       [4.72311214e-03, 9.95276888e-01],\n",
       "       [9.64465132e-01, 3.55348678e-02],\n",
       "       [1.05773699e-01, 8.94226301e-01],\n",
       "       [2.24404357e-01, 7.75595643e-01],\n",
       "       [9.74387144e-01, 2.56128558e-02],\n",
       "       [9.95647635e-01, 4.35236528e-03],\n",
       "       [3.62367909e-01, 6.37632091e-01],\n",
       "       [1.49556717e-02, 9.85044328e-01],\n",
       "       [9.79448041e-01, 2.05519590e-02],\n",
       "       [1.40639883e-01, 8.59360117e-01],\n",
       "       [5.18344179e-02, 9.48165582e-01],\n",
       "       [9.97541949e-01, 2.45805144e-03],\n",
       "       [1.06036377e-03, 9.98939636e-01],\n",
       "       [9.92257989e-01, 7.74201132e-03],\n",
       "       [9.97897155e-01, 2.10284462e-03],\n",
       "       [9.98029672e-01, 1.97032787e-03],\n",
       "       [7.93877955e-01, 2.06122045e-01],\n",
       "       [9.99999913e-01, 8.68838924e-08],\n",
       "       [5.10244477e-03, 9.94897555e-01],\n",
       "       [9.79677733e-01, 2.03222673e-02],\n",
       "       [9.79946506e-06, 9.99990201e-01],\n",
       "       [2.28431809e-01, 7.71568191e-01],\n",
       "       [1.82041197e-02, 9.81795880e-01],\n",
       "       [9.44720133e-02, 9.05527987e-01],\n",
       "       [9.98674139e-01, 1.32586138e-03],\n",
       "       [1.14978726e-02, 9.88502127e-01],\n",
       "       [9.98591690e-01, 1.40831044e-03],\n",
       "       [9.78288355e-01, 2.17116447e-02],\n",
       "       [3.42248364e-01, 6.57751636e-01],\n",
       "       [9.81705458e-01, 1.82945425e-02],\n",
       "       [9.59234076e-01, 4.07659243e-02],\n",
       "       [1.05297268e-03, 9.98947027e-01],\n",
       "       [9.90342710e-01, 9.65728975e-03],\n",
       "       [9.83719665e-01, 1.62803348e-02],\n",
       "       [4.66301027e-01, 5.33698973e-01],\n",
       "       [9.98074021e-01, 1.92597904e-03],\n",
       "       [7.60124214e-01, 2.39875786e-01],\n",
       "       [9.97628271e-01, 2.37172906e-03],\n",
       "       [2.97153944e-02, 9.70284606e-01],\n",
       "       [1.64545707e-04, 9.99835454e-01],\n",
       "       [7.28835878e-02, 9.27116412e-01],\n",
       "       [9.88665153e-01, 1.13348469e-02],\n",
       "       [8.49879722e-01, 1.50120278e-01],\n",
       "       [9.94243647e-01, 5.75635348e-03],\n",
       "       [5.77877701e-03, 9.94221223e-01],\n",
       "       [1.41933856e-02, 9.85806614e-01],\n",
       "       [9.80938854e-01, 1.90611457e-02],\n",
       "       [9.93100466e-01, 6.89953357e-03],\n",
       "       [9.79248272e-01, 2.07517277e-02]])"
      ]
     },
     "execution_count": 38,
     "metadata": {},
     "output_type": "execute_result"
    }
   ],
   "source": [
    "y_prob"
   ]
  },
  {
   "cell_type": "code",
   "execution_count": 39,
   "id": "d23975f0",
   "metadata": {},
   "outputs": [],
   "source": [
    "import matplotlib.pyplot as plt"
   ]
  },
  {
   "cell_type": "code",
   "execution_count": 40,
   "id": "f2a996bd",
   "metadata": {},
   "outputs": [],
   "source": [
    "from sklearn.metrics import roc_curve,auc"
   ]
  },
  {
   "cell_type": "code",
   "execution_count": 41,
   "id": "35cd31aa",
   "metadata": {},
   "outputs": [],
   "source": [
    "fpr,tpr,threshold = roc_curve(ytest,y_prob[:,1])"
   ]
  },
  {
   "cell_type": "code",
   "execution_count": 42,
   "id": "b461b5e3",
   "metadata": {},
   "outputs": [
    {
     "data": {
      "text/plain": [
       "[<matplotlib.lines.Line2D at 0x2171a3e0b90>]"
      ]
     },
     "execution_count": 42,
     "metadata": {},
     "output_type": "execute_result"
    },
    {
     "data": {
      "image/png": "[encoded data removed]",
      "text/plain": [
       "<Figure size 640x480 with 1 Axes>"
      ]
     },
     "metadata": {},
     "output_type": "display_data"
    }
   ],
   "source": [
    "plt.plot(fpr,tpr)"
   ]
  },
  {
   "cell_type": "code",
   "execution_count": 43,
   "id": "c9270b44",
   "metadata": {},
   "outputs": [],
   "source": [
    "plt.show()"
   ]
  },
  {
   "cell_type": "code",
   "execution_count": 44,
   "id": "fe9cbfb2",
   "metadata": {},
   "outputs": [
    {
     "name": "stdout",
     "output_type": "stream",
     "text": [
      "0.9900246913580247\n"
     ]
    }
   ],
   "source": [
    "print(auc(fpr,tpr))"
   ]
  },
  {
   "cell_type": "code",
   "execution_count": null,
   "id": "96846656",
   "metadata": {},
   "outputs": [],
   "source": []
  }
 ],
 "metadata": {
  "kernelspec": {
   "display_name": "Python 3 (ipykernel)",
   "language": "python",
   "name": "python3"
  },
  "language_info": {
   "codemirror_mode": {
    "name": "ipython",
    "version": 3
   },
   "file_extension": ".py",
   "mimetype": "text/x-python",
   "name": "python",
   "nbconvert_exporter": "python",
   "pygments_lexer": "ipython3",
   "version": "3.11.5"
  }
 },
 "nbformat": 4,
 "nbformat_minor": 5
}
