{
 "cells": [
  {
   "cell_type": "code",
   "execution_count": 1,
   "id": "7d0cd14d",
   "metadata": {},
   "outputs": [
    {
     "name": "stderr",
     "output_type": "stream",
     "text": [
      "C:\\Users\\0rame\\AppData\\Local\\Temp\\ipykernel_15416\\241748869.py:3: DtypeWarning: Columns (5) have mixed types. Specify dtype option on import or set low_memory=False.\n",
      "  df = pd.read_csv(\"C:/Users/0rame/Desktop/ML_tutorials/Datas/ticket_08_2017 - ticket_08_2017.csv\")\n"
     ]
    }
   ],
   "source": [
    "import pandas as pd\n",
    "import numpy as np\n",
    "df = pd.read_csv(\"C:/Users/0rame/Desktop/ML_tutorials/Datas/ticket_08_2017 - ticket_08_2017.csv\")"
   ]
  },
  {
   "cell_type": "markdown",
   "id": "0a3b7acd",
   "metadata": {},
   "source": [
    "# df = pd.read_csv(\"C:/Users/0rame/Desktop/ML_tutorials/Datas/ticket_08_2017 - ticket_08_2017.csv\")"
   ]
  },
  {
   "cell_type": "code",
   "execution_count": 2,
   "id": "d4bd4922",
   "metadata": {},
   "outputs": [],
   "source": [
    "df1 =df.iloc[:,6:13]"
   ]
  },
  {
   "cell_type": "code",
   "execution_count": 3,
   "id": "4de3c5ca",
   "metadata": {},
   "outputs": [
    {
     "data": {
      "text/html": [
       "<div>\n",
       "<style scoped>\n",
       "    .dataframe tbody tr th:only-of-type {\n",
       "        vertical-align: middle;\n",
       "    }\n",
       "\n",
       "    .dataframe tbody tr th {\n",
       "        vertical-align: top;\n",
       "    }\n",
       "\n",
       "    .dataframe thead th {\n",
       "        text-align: right;\n",
       "    }\n",
       "</style>\n",
       "<table border=\"1\" class=\"dataframe\">\n",
       "  <thead>\n",
       "    <tr style=\"text-align: right;\">\n",
       "      <th></th>\n",
       "      <th>sync_tkt_route_name</th>\n",
       "      <th>sync_tkt_schedule_no</th>\n",
       "      <th>sync_tkt_trip_no</th>\n",
       "      <th>sync_tkt_start_stage_name</th>\n",
       "      <th>sync_tkt_end_stage_name</th>\n",
       "      <th>sync_tkt_uid</th>\n",
       "      <th>sync_tkt_full_count</th>\n",
       "    </tr>\n",
       "  </thead>\n",
       "  <tbody>\n",
       "    <tr>\n",
       "      <th>0</th>\n",
       "      <td>CHRY-NEDKNDM</td>\n",
       "      <td>1</td>\n",
       "      <td>2</td>\n",
       "      <td>KATTAPANA</td>\n",
       "      <td>MARUKULAM</td>\n",
       "      <td>2017-07-31 14:43:35</td>\n",
       "      <td>1</td>\n",
       "    </tr>\n",
       "    <tr>\n",
       "      <th>1</th>\n",
       "      <td>CHRY-NEDKNDM</td>\n",
       "      <td>1</td>\n",
       "      <td>2</td>\n",
       "      <td>KATTAPANA</td>\n",
       "      <td>PARAPU</td>\n",
       "      <td>2017-07-31 14:43:35</td>\n",
       "      <td>1</td>\n",
       "    </tr>\n",
       "    <tr>\n",
       "      <th>2</th>\n",
       "      <td>CHRY-NEDKNDM</td>\n",
       "      <td>1</td>\n",
       "      <td>2</td>\n",
       "      <td>KATTAPANA</td>\n",
       "      <td>KUTTIKANNAM</td>\n",
       "      <td>2017-07-31 14:43:35</td>\n",
       "      <td>1</td>\n",
       "    </tr>\n",
       "    <tr>\n",
       "      <th>3</th>\n",
       "      <td>CHRY-NEDKNDM</td>\n",
       "      <td>1</td>\n",
       "      <td>2</td>\n",
       "      <td>SWARAJ</td>\n",
       "      <td>KUTTIKANNAM</td>\n",
       "      <td>2017-07-31 14:43:35</td>\n",
       "      <td>1</td>\n",
       "    </tr>\n",
       "    <tr>\n",
       "      <th>4</th>\n",
       "      <td>CHRY-NEDKNDM</td>\n",
       "      <td>1</td>\n",
       "      <td>2</td>\n",
       "      <td>MATTUKATTA</td>\n",
       "      <td>KUTTIKANNAM</td>\n",
       "      <td>2017-07-31 14:43:35</td>\n",
       "      <td>1</td>\n",
       "    </tr>\n",
       "  </tbody>\n",
       "</table>\n",
       "</div>"
      ],
      "text/plain": [
       "  sync_tkt_route_name  sync_tkt_schedule_no  sync_tkt_trip_no  \\\n",
       "0        CHRY-NEDKNDM                     1                 2   \n",
       "1        CHRY-NEDKNDM                     1                 2   \n",
       "2        CHRY-NEDKNDM                     1                 2   \n",
       "3        CHRY-NEDKNDM                     1                 2   \n",
       "4        CHRY-NEDKNDM                     1                 2   \n",
       "\n",
       "  sync_tkt_start_stage_name sync_tkt_end_stage_name         sync_tkt_uid  \\\n",
       "0                 KATTAPANA               MARUKULAM  2017-07-31 14:43:35   \n",
       "1                 KATTAPANA                  PARAPU  2017-07-31 14:43:35   \n",
       "2                 KATTAPANA             KUTTIKANNAM  2017-07-31 14:43:35   \n",
       "3                    SWARAJ             KUTTIKANNAM  2017-07-31 14:43:35   \n",
       "4                MATTUKATTA             KUTTIKANNAM  2017-07-31 14:43:35   \n",
       "\n",
       "   sync_tkt_full_count  \n",
       "0                    1  \n",
       "1                    1  \n",
       "2                    1  \n",
       "3                    1  \n",
       "4                    1  "
      ]
     },
     "execution_count": 3,
     "metadata": {},
     "output_type": "execute_result"
    }
   ],
   "source": [
    "df1.head()"
   ]
  },
  {
   "cell_type": "code",
   "execution_count": 4,
   "id": "ff28e4ff",
   "metadata": {},
   "outputs": [],
   "source": [
    "df2 = df1.groupby(['sync_tkt_route_name','sync_tkt_schedule_no','sync_tkt_trip_no','sync_tkt_start_stage_name','sync_tkt_end_stage_name'],as_index=False).agg({'sync_tkt_full_count':'sum'})"
   ]
  },
  {
   "cell_type": "code",
   "execution_count": 5,
   "id": "43918188",
   "metadata": {},
   "outputs": [
    {
     "data": {
      "text/html": [
       "<div>\n",
       "<style scoped>\n",
       "    .dataframe tbody tr th:only-of-type {\n",
       "        vertical-align: middle;\n",
       "    }\n",
       "\n",
       "    .dataframe tbody tr th {\n",
       "        vertical-align: top;\n",
       "    }\n",
       "\n",
       "    .dataframe thead th {\n",
       "        text-align: right;\n",
       "    }\n",
       "</style>\n",
       "<table border=\"1\" class=\"dataframe\">\n",
       "  <thead>\n",
       "    <tr style=\"text-align: right;\">\n",
       "      <th></th>\n",
       "      <th>sync_tkt_route_name</th>\n",
       "      <th>sync_tkt_schedule_no</th>\n",
       "      <th>sync_tkt_trip_no</th>\n",
       "      <th>sync_tkt_start_stage_name</th>\n",
       "      <th>sync_tkt_end_stage_name</th>\n",
       "      <th>sync_tkt_full_count</th>\n",
       "    </tr>\n",
       "  </thead>\n",
       "  <tbody>\n",
       "    <tr>\n",
       "      <th>0</th>\n",
       "      <td>ANGLVLY-KTYM</td>\n",
       "      <td>1</td>\n",
       "      <td>1</td>\n",
       "      <td>8MILE</td>\n",
       "      <td>MANIMALA</td>\n",
       "      <td>13</td>\n",
       "    </tr>\n",
       "    <tr>\n",
       "      <th>1</th>\n",
       "      <td>ANGLVLY-KTYM</td>\n",
       "      <td>1</td>\n",
       "      <td>1</td>\n",
       "      <td>8MILE</td>\n",
       "      <td>PKALAM</td>\n",
       "      <td>3</td>\n",
       "    </tr>\n",
       "    <tr>\n",
       "      <th>2</th>\n",
       "      <td>ANGLVLY-KTYM</td>\n",
       "      <td>1</td>\n",
       "      <td>1</td>\n",
       "      <td>ALAMPALLY</td>\n",
       "      <td>KPARA</td>\n",
       "      <td>1</td>\n",
       "    </tr>\n",
       "    <tr>\n",
       "      <th>3</th>\n",
       "      <td>ANGLVLY-KTYM</td>\n",
       "      <td>1</td>\n",
       "      <td>1</td>\n",
       "      <td>ALAMPALLY</td>\n",
       "      <td>MANIMALA</td>\n",
       "      <td>1</td>\n",
       "    </tr>\n",
       "    <tr>\n",
       "      <th>4</th>\n",
       "      <td>ANGLVLY-KTYM</td>\n",
       "      <td>1</td>\n",
       "      <td>1</td>\n",
       "      <td>CHETTEDA</td>\n",
       "      <td>MANIMALA</td>\n",
       "      <td>3</td>\n",
       "    </tr>\n",
       "    <tr>\n",
       "      <th>...</th>\n",
       "      <td>...</td>\n",
       "      <td>...</td>\n",
       "      <td>...</td>\n",
       "      <td>...</td>\n",
       "      <td>...</td>\n",
       "      <td>...</td>\n",
       "    </tr>\n",
       "    <tr>\n",
       "      <th>45745</th>\n",
       "      <td>VAIKOM-PNCHKAD</td>\n",
       "      <td>3</td>\n",
       "      <td>5</td>\n",
       "      <td>VAIKOM</td>\n",
       "      <td>PUTANPALOM</td>\n",
       "      <td>1</td>\n",
       "    </tr>\n",
       "    <tr>\n",
       "      <th>45746</th>\n",
       "      <td>VAIKOM-PNCHKAD</td>\n",
       "      <td>3</td>\n",
       "      <td>6</td>\n",
       "      <td>KUMARAKOM</td>\n",
       "      <td>KOTTAYAM</td>\n",
       "      <td>1</td>\n",
       "    </tr>\n",
       "    <tr>\n",
       "      <th>45747</th>\n",
       "      <td>VAIKOM-PNCHKAD</td>\n",
       "      <td>3</td>\n",
       "      <td>6</td>\n",
       "      <td>VAIKOM</td>\n",
       "      <td>TALAYAZHOM</td>\n",
       "      <td>1</td>\n",
       "    </tr>\n",
       "    <tr>\n",
       "      <th>45748</th>\n",
       "      <td>VAIKOM-PNCHKAD</td>\n",
       "      <td>3</td>\n",
       "      <td>7</td>\n",
       "      <td>VAIKOM</td>\n",
       "      <td>KAVANATNKAR</td>\n",
       "      <td>1</td>\n",
       "    </tr>\n",
       "    <tr>\n",
       "      <th>45749</th>\n",
       "      <td>VAIKOM-PNCHKAD</td>\n",
       "      <td>3</td>\n",
       "      <td>7</td>\n",
       "      <td>VAIKOM</td>\n",
       "      <td>KOTTAYAM</td>\n",
       "      <td>1</td>\n",
       "    </tr>\n",
       "  </tbody>\n",
       "</table>\n",
       "<p>45750 rows × 6 columns</p>\n",
       "</div>"
      ],
      "text/plain": [
       "      sync_tkt_route_name  sync_tkt_schedule_no  sync_tkt_trip_no  \\\n",
       "0            ANGLVLY-KTYM                     1                 1   \n",
       "1            ANGLVLY-KTYM                     1                 1   \n",
       "2            ANGLVLY-KTYM                     1                 1   \n",
       "3            ANGLVLY-KTYM                     1                 1   \n",
       "4            ANGLVLY-KTYM                     1                 1   \n",
       "...                   ...                   ...               ...   \n",
       "45745      VAIKOM-PNCHKAD                     3                 5   \n",
       "45746      VAIKOM-PNCHKAD                     3                 6   \n",
       "45747      VAIKOM-PNCHKAD                     3                 6   \n",
       "45748      VAIKOM-PNCHKAD                     3                 7   \n",
       "45749      VAIKOM-PNCHKAD                     3                 7   \n",
       "\n",
       "      sync_tkt_start_stage_name sync_tkt_end_stage_name  sync_tkt_full_count  \n",
       "0                         8MILE                MANIMALA                   13  \n",
       "1                         8MILE                  PKALAM                    3  \n",
       "2                     ALAMPALLY                   KPARA                    1  \n",
       "3                     ALAMPALLY                MANIMALA                    1  \n",
       "4                      CHETTEDA                MANIMALA                    3  \n",
       "...                         ...                     ...                  ...  \n",
       "45745                    VAIKOM              PUTANPALOM                    1  \n",
       "45746                 KUMARAKOM                KOTTAYAM                    1  \n",
       "45747                    VAIKOM              TALAYAZHOM                    1  \n",
       "45748                    VAIKOM             KAVANATNKAR                    1  \n",
       "45749                    VAIKOM                KOTTAYAM                    1  \n",
       "\n",
       "[45750 rows x 6 columns]"
      ]
     },
     "execution_count": 5,
     "metadata": {},
     "output_type": "execute_result"
    }
   ],
   "source": [
    "df2"
   ]
  },
  {
   "cell_type": "code",
   "execution_count": 39,
   "id": "76665ab4",
   "metadata": {},
   "outputs": [],
   "source": [
    "x = df2.iloc[:,[0,1,2,3,4]].values"
   ]
  },
  {
   "cell_type": "code",
   "execution_count": 40,
   "id": "e0253582",
   "metadata": {},
   "outputs": [
    {
     "data": {
      "text/plain": [
       "array([['ANGLVLY-KTYM', 1, 1, '8MILE', 'MANIMALA'],\n",
       "       ['ANGLVLY-KTYM', 1, 1, '8MILE', 'PKALAM'],\n",
       "       ['ANGLVLY-KTYM', 1, 1, 'ALAMPALLY', 'KPARA'],\n",
       "       ...,\n",
       "       ['VAIKOM-PNCHKAD', 3, 6, 'VAIKOM', 'TALAYAZHOM'],\n",
       "       ['VAIKOM-PNCHKAD', 3, 7, 'VAIKOM', 'KAVANATNKAR'],\n",
       "       ['VAIKOM-PNCHKAD', 3, 7, 'VAIKOM', 'KOTTAYAM']], dtype=object)"
      ]
     },
     "execution_count": 40,
     "metadata": {},
     "output_type": "execute_result"
    }
   ],
   "source": [
    "x"
   ]
  },
  {
   "cell_type": "code",
   "execution_count": 81,
   "id": "8d96ba68",
   "metadata": {},
   "outputs": [
    {
     "data": {
      "text/plain": [
       "array([[13],\n",
       "       [ 3],\n",
       "       [ 1],\n",
       "       ...,\n",
       "       [ 1],\n",
       "       [ 1],\n",
       "       [ 1]], dtype=int64)"
      ]
     },
     "execution_count": 81,
     "metadata": {},
     "output_type": "execute_result"
    }
   ],
   "source": [
    "y = df2.iloc[:,[-1]].values\n",
    "y"
   ]
  },
  {
   "cell_type": "code",
   "execution_count": 82,
   "id": "e84f8876",
   "metadata": {},
   "outputs": [],
   "source": [
    "from sklearn.preprocessing import LabelEncoder\n",
    "from sklearn.linear_model import LinearRegression\n",
    "from sklearn.model_selection import train_test_split"
   ]
  },
  {
   "cell_type": "code",
   "execution_count": 70,
   "id": "fbe3b83b",
   "metadata": {},
   "outputs": [],
   "source": [
    "label1 = LabelEncoder()\n",
    "x[:,0] = label1.fit_transform(x[:,0])"
   ]
  },
  {
   "cell_type": "code",
   "execution_count": 71,
   "id": "e947f8d9",
   "metadata": {},
   "outputs": [
    {
     "data": {
      "text/plain": [
       "array([[0, 0, 0, 54, 736],\n",
       "       [0, 0, 0, 54, 1067],\n",
       "       [0, 0, 0, 71, 582],\n",
       "       ...,\n",
       "       [129, 2, 5, 1300, 1191],\n",
       "       [129, 2, 6, 1300, 454],\n",
       "       [129, 2, 6, 1300, 570]], dtype=object)"
      ]
     },
     "execution_count": 71,
     "metadata": {},
     "output_type": "execute_result"
    }
   ],
   "source": [
    "x"
   ]
  },
  {
   "cell_type": "code",
   "execution_count": 72,
   "id": "f90d82f0",
   "metadata": {},
   "outputs": [],
   "source": [
    "label2 = LabelEncoder()\n",
    "x[:,1] = label2.fit_transform(x[:,1])"
   ]
  },
  {
   "cell_type": "code",
   "execution_count": 73,
   "id": "efce504a",
   "metadata": {},
   "outputs": [],
   "source": [
    "label3 = LabelEncoder()\n",
    "x[:,2] = label3.fit_transform(x[:,2])"
   ]
  },
  {
   "cell_type": "code",
   "execution_count": 74,
   "id": "9e53537b",
   "metadata": {},
   "outputs": [],
   "source": [
    "label4 = LabelEncoder()\n",
    "x[:,3] = label4.fit_transform(x[:,3])"
   ]
  },
  {
   "cell_type": "code",
   "execution_count": 75,
   "id": "8ca50112",
   "metadata": {},
   "outputs": [],
   "source": [
    "label5 = LabelEncoder()\n",
    "x[:,4] = label5.fit_transform(x[:,4])"
   ]
  },
  {
   "cell_type": "code",
   "execution_count": 76,
   "id": "6a883bc6",
   "metadata": {},
   "outputs": [],
   "source": [
    "model = LinearRegression()"
   ]
  },
  {
   "cell_type": "code",
   "execution_count": 92,
   "id": "76a1be7e",
   "metadata": {},
   "outputs": [],
   "source": [
    "xtrain,xtest,ytrain,ytest = train_test_split(x, y)"
   ]
  },
  {
   "cell_type": "code",
   "execution_count": 83,
   "id": "bb5f9ab9",
   "metadata": {},
   "outputs": [
    {
     "data": {
      "text/plain": [
       "(34312, 5)"
      ]
     },
     "execution_count": 83,
     "metadata": {},
     "output_type": "execute_result"
    }
   ],
   "source": [
    "xtrain.shape"
   ]
  },
  {
   "cell_type": "code",
   "execution_count": 84,
   "id": "53495536",
   "metadata": {},
   "outputs": [
    {
     "data": {
      "text/plain": [
       "(11438, 5)"
      ]
     },
     "execution_count": 84,
     "metadata": {},
     "output_type": "execute_result"
    }
   ],
   "source": [
    "ytrain.shape"
   ]
  },
  {
   "cell_type": "code",
   "execution_count": 89,
   "id": "9ac55dc7",
   "metadata": {},
   "outputs": [
    {
     "data": {
      "text/plain": [
       "(34312, 1)"
      ]
     },
     "execution_count": 89,
     "metadata": {},
     "output_type": "execute_result"
    }
   ],
   "source": [
    "xtest.shape"
   ]
  },
  {
   "cell_type": "code",
   "execution_count": 93,
   "id": "c84d15e6",
   "metadata": {},
   "outputs": [
    {
     "data": {
      "text/html": [
       "<style>#sk-container-id-1 {color: black;}#sk-container-id-1 pre{padding: 0;}#sk-container-id-1 div.sk-toggleable {background-color: white;}#sk-container-id-1 label.sk-toggleable__label {cursor: pointer;display: block;width: 100%;margin-bottom: 0;padding: 0.3em;box-sizing: border-box;text-align: center;}#sk-container-id-1 label.sk-toggleable__label-arrow:before {content: \"▸\";float: left;margin-right: 0.25em;color: #696969;}#sk-container-id-1 label.sk-toggleable__label-arrow:hover:before {color: black;}#sk-container-id-1 div.sk-estimator:hover label.sk-toggleable__label-arrow:before {color: black;}#sk-container-id-1 div.sk-toggleable__content {max-height: 0;max-width: 0;overflow: hidden;text-align: left;background-color: #f0f8ff;}#sk-container-id-1 div.sk-toggleable__content pre {margin: 0.2em;color: black;border-radius: 0.25em;background-color: #f0f8ff;}#sk-container-id-1 input.sk-toggleable__control:checked~div.sk-toggleable__content {max-height: 200px;max-width: 100%;overflow: auto;}#sk-container-id-1 input.sk-toggleable__control:checked~label.sk-toggleable__label-arrow:before {content: \"▾\";}#sk-container-id-1 div.sk-estimator input.sk-toggleable__control:checked~label.sk-toggleable__label {background-color: #d4ebff;}#sk-container-id-1 div.sk-label input.sk-toggleable__control:checked~label.sk-toggleable__label {background-color: #d4ebff;}#sk-container-id-1 input.sk-hidden--visually {border: 0;clip: rect(1px 1px 1px 1px);clip: rect(1px, 1px, 1px, 1px);height: 1px;margin: -1px;overflow: hidden;padding: 0;position: absolute;width: 1px;}#sk-container-id-1 div.sk-estimator {font-family: monospace;background-color: #f0f8ff;border: 1px dotted black;border-radius: 0.25em;box-sizing: border-box;margin-bottom: 0.5em;}#sk-container-id-1 div.sk-estimator:hover {background-color: #d4ebff;}#sk-container-id-1 div.sk-parallel-item::after {content: \"\";width: 100%;border-bottom: 1px solid gray;flex-grow: 1;}#sk-container-id-1 div.sk-label:hover label.sk-toggleable__label {background-color: #d4ebff;}#sk-container-id-1 div.sk-serial::before {content: \"\";position: absolute;border-left: 1px solid gray;box-sizing: border-box;top: 0;bottom: 0;left: 50%;z-index: 0;}#sk-container-id-1 div.sk-serial {display: flex;flex-direction: column;align-items: center;background-color: white;padding-right: 0.2em;padding-left: 0.2em;position: relative;}#sk-container-id-1 div.sk-item {position: relative;z-index: 1;}#sk-container-id-1 div.sk-parallel {display: flex;align-items: stretch;justify-content: center;background-color: white;position: relative;}#sk-container-id-1 div.sk-item::before, #sk-container-id-1 div.sk-parallel-item::before {content: \"\";position: absolute;border-left: 1px solid gray;box-sizing: border-box;top: 0;bottom: 0;left: 50%;z-index: -1;}#sk-container-id-1 div.sk-parallel-item {display: flex;flex-direction: column;z-index: 1;position: relative;background-color: white;}#sk-container-id-1 div.sk-parallel-item:first-child::after {align-self: flex-end;width: 50%;}#sk-container-id-1 div.sk-parallel-item:last-child::after {align-self: flex-start;width: 50%;}#sk-container-id-1 div.sk-parallel-item:only-child::after {width: 0;}#sk-container-id-1 div.sk-dashed-wrapped {border: 1px dashed gray;margin: 0 0.4em 0.5em 0.4em;box-sizing: border-box;padding-bottom: 0.4em;background-color: white;}#sk-container-id-1 div.sk-label label {font-family: monospace;font-weight: bold;display: inline-block;line-height: 1.2em;}#sk-container-id-1 div.sk-label-container {text-align: center;}#sk-container-id-1 div.sk-container {/* jupyter's `normalize.less` sets `[hidden] { display: none; }` but bootstrap.min.css set `[hidden] { display: none !important; }` so we also need the `!important` here to be able to override the default hidden behavior on the sphinx rendered scikit-learn.org. See: https://github.com/scikit-learn/scikit-learn/issues/21755 */display: inline-block !important;position: relative;}#sk-container-id-1 div.sk-text-repr-fallback {display: none;}</style><div id=\"sk-container-id-1\" class=\"sk-top-container\"><div class=\"sk-text-repr-fallback\"><pre>LinearRegression()</pre><b>In a Jupyter environment, please rerun this cell to show the HTML representation or trust the notebook. <br />On GitHub, the HTML representation is unable to render, please try loading this page with nbviewer.org.</b></div><div class=\"sk-container\" hidden><div class=\"sk-item\"><div class=\"sk-estimator sk-toggleable\"><input class=\"sk-toggleable__control sk-hidden--visually\" id=\"sk-estimator-id-1\" type=\"checkbox\" checked><label for=\"sk-estimator-id-1\" class=\"sk-toggleable__label sk-toggleable__label-arrow\">LinearRegression</label><div class=\"sk-toggleable__content\"><pre>LinearRegression()</pre></div></div></div></div></div>"
      ],
      "text/plain": [
       "LinearRegression()"
      ]
     },
     "execution_count": 93,
     "metadata": {},
     "output_type": "execute_result"
    }
   ],
   "source": [
    "model.fit(xtrain,ytrain)"
   ]
  },
  {
   "cell_type": "code",
   "execution_count": 62,
   "id": "b0baef31",
   "metadata": {},
   "outputs": [
    {
     "data": {
      "text/plain": [
       "(45750, 5)"
      ]
     },
     "execution_count": 62,
     "metadata": {},
     "output_type": "execute_result"
    }
   ],
   "source": [
    "x.shape"
   ]
  },
  {
   "cell_type": "code",
   "execution_count": 91,
   "id": "400dee69",
   "metadata": {},
   "outputs": [
    {
     "data": {
      "text/plain": [
       "(11438, 1)"
      ]
     },
     "execution_count": 91,
     "metadata": {},
     "output_type": "execute_result"
    }
   ],
   "source": [
    "ytest.shape"
   ]
  },
  {
   "cell_type": "code",
   "execution_count": 55,
   "id": "ff9d01b1",
   "metadata": {},
   "outputs": [
    {
     "data": {
      "text/plain": [
       "(45750,)"
      ]
     },
     "execution_count": 55,
     "metadata": {},
     "output_type": "execute_result"
    }
   ],
   "source": [
    "x[:,0].shape"
   ]
  },
  {
   "cell_type": "code",
   "execution_count": 56,
   "id": "e1c2521b",
   "metadata": {},
   "outputs": [
    {
     "data": {
      "text/plain": [
       "(45750,)"
      ]
     },
     "execution_count": 56,
     "metadata": {},
     "output_type": "execute_result"
    }
   ],
   "source": [
    "x[:,1].shape"
   ]
  },
  {
   "cell_type": "code",
   "execution_count": 57,
   "id": "41ec6eab",
   "metadata": {},
   "outputs": [
    {
     "data": {
      "text/plain": [
       "(45750,)"
      ]
     },
     "execution_count": 57,
     "metadata": {},
     "output_type": "execute_result"
    }
   ],
   "source": [
    "x[:,2].shape"
   ]
  },
  {
   "cell_type": "code",
   "execution_count": 58,
   "id": "1b0dd739",
   "metadata": {},
   "outputs": [
    {
     "data": {
      "text/plain": [
       "(45750,)"
      ]
     },
     "execution_count": 58,
     "metadata": {},
     "output_type": "execute_result"
    }
   ],
   "source": [
    "x[:,3].shape"
   ]
  },
  {
   "cell_type": "code",
   "execution_count": 59,
   "id": "2ba8704c",
   "metadata": {},
   "outputs": [
    {
     "data": {
      "text/plain": [
       "(45750, 1)"
      ]
     },
     "execution_count": 59,
     "metadata": {},
     "output_type": "execute_result"
    }
   ],
   "source": [
    "y.shape"
   ]
  },
  {
   "cell_type": "code",
   "execution_count": 85,
   "id": "a9624403",
   "metadata": {},
   "outputs": [
    {
     "data": {
      "text/plain": [
       "(45750, 1)"
      ]
     },
     "execution_count": 85,
     "metadata": {},
     "output_type": "execute_result"
    }
   ],
   "source": [
    "y.shape"
   ]
  },
  {
   "cell_type": "code",
   "execution_count": 86,
   "id": "a310bfd3",
   "metadata": {},
   "outputs": [
    {
     "data": {
      "text/plain": [
       "2"
      ]
     },
     "execution_count": 86,
     "metadata": {},
     "output_type": "execute_result"
    }
   ],
   "source": [
    "y.ndim"
   ]
  },
  {
   "cell_type": "code",
   "execution_count": 87,
   "id": "7a0b023f",
   "metadata": {},
   "outputs": [
    {
     "data": {
      "text/plain": [
       "2"
      ]
     },
     "execution_count": 87,
     "metadata": {},
     "output_type": "execute_result"
    }
   ],
   "source": [
    "x.ndim\n"
   ]
  },
  {
   "cell_type": "code",
   "execution_count": 88,
   "id": "7b0571cd",
   "metadata": {},
   "outputs": [
    {
     "data": {
      "text/plain": [
       "2"
      ]
     },
     "execution_count": 88,
     "metadata": {},
     "output_type": "execute_result"
    }
   ],
   "source": [
    "ytrain.ndim"
   ]
  },
  {
   "cell_type": "code",
   "execution_count": 94,
   "id": "cb3ec381",
   "metadata": {},
   "outputs": [],
   "source": [
    "ypred= model.predict(xtest)"
   ]
  },
  {
   "cell_type": "code",
   "execution_count": 95,
   "id": "c817f435",
   "metadata": {},
   "outputs": [
    {
     "data": {
      "text/plain": [
       "array([[5.3472148 ],\n",
       "       [6.38743062],\n",
       "       [2.02026368],\n",
       "       ...,\n",
       "       [6.37210599],\n",
       "       [6.57441462],\n",
       "       [4.58374426]])"
      ]
     },
     "execution_count": 95,
     "metadata": {},
     "output_type": "execute_result"
    }
   ],
   "source": [
    "ypred"
   ]
  },
  {
   "cell_type": "code",
   "execution_count": 96,
   "id": "938cd69c",
   "metadata": {},
   "outputs": [
    {
     "data": {
      "text/plain": [
       "array([[ 1],\n",
       "       [ 5],\n",
       "       [ 2],\n",
       "       ...,\n",
       "       [ 2],\n",
       "       [ 2],\n",
       "       [21]], dtype=int64)"
      ]
     },
     "execution_count": 96,
     "metadata": {},
     "output_type": "execute_result"
    }
   ],
   "source": [
    "ytest"
   ]
  },
  {
   "cell_type": "code",
   "execution_count": 97,
   "id": "bbb6823f",
   "metadata": {},
   "outputs": [
    {
     "data": {
      "text/plain": [
       "0.01728256208157275"
      ]
     },
     "execution_count": 97,
     "metadata": {},
     "output_type": "execute_result"
    }
   ],
   "source": [
    "model.score(xtest,ytest)"
   ]
  },
  {
   "cell_type": "code",
   "execution_count": null,
   "id": "53ab2657",
   "metadata": {},
   "outputs": [],
   "source": []
  },
  {
   "cell_type": "code",
   "execution_count": null,
   "id": "869676be",
   "metadata": {},
   "outputs": [],
   "source": []
  },
  {
   "cell_type": "code",
   "execution_count": null,
   "id": "0d2aac58",
   "metadata": {},
   "outputs": [],
   "source": []
  },
  {
   "cell_type": "code",
   "execution_count": null,
   "id": "acf15363",
   "metadata": {},
   "outputs": [],
   "source": []
  }
 ],
 "metadata": {
  "kernelspec": {
   "display_name": "Python 3 (ipykernel)",
   "language": "python",
   "name": "python3"
  },
  "language_info": {
   "codemirror_mode": {
    "name": "ipython",
    "version": 3
   },
   "file_extension": ".py",
   "mimetype": "text/x-python",
   "name": "python",
   "nbconvert_exporter": "python",
   "pygments_lexer": "ipython3",
   "version": "3.11.5"
  }
 },
 "nbformat": 4,
 "nbformat_minor": 5
}
